{
 "cells": [
  {
   "cell_type": "markdown",
   "metadata": {},
   "source": [
    "# SEIR Model for COVID19 Forecasting"
   ]
  },
  {
   "cell_type": "code",
   "execution_count": 21,
   "metadata": {
    "execution": {
     "iopub.execute_input": "2020-10-12T07:46:09.227818Z",
     "iopub.status.busy": "2020-10-12T07:46:09.227818Z",
     "iopub.status.idle": "2020-10-12T07:46:09.343816Z",
     "shell.execute_reply": "2020-10-12T07:46:09.343816Z",
     "shell.execute_reply.started": "2020-10-12T07:46:09.227818Z"
    }
   },
   "outputs": [],
   "source": [
    "# Data manipulation\n",
    "import numpy as np\n",
    "import pandas as pd\n",
    "pd.options.display.max_columns = None\n",
    "pd.options.display.max_colwidth = 500\n",
    "\n",
    "# Data viz\n",
    "import matplotlib.pyplot as plt\n",
    "import seaborn as sns\n",
    "sns.set(style='darkgrid', rc={'figure.figsize':(11.7,8.27)})\n",
    "\n",
    "# Other\n",
    "import os\n",
    "import random\n",
    "\n",
    "# Custom module\n",
    "module_path = os.path.abspath(os.path.join('../src'))\n",
    "if module_path not in sys.path:\n",
    "    sys.path.append(module_path)\n",
    "\n",
    "from region_model import RegionModel\n",
    "from simulation import run\n",
    "from utils import str_to_date, remove_space_region\n",
    "\n",
    "# Reload imported code \n",
    "%reload_ext autoreload\n",
    "%autoreload 2\n",
    "\n",
    "# Print all output\n",
    "from IPython.core.interactiveshell import InteractiveShell\n",
    "InteractiveShell.ast_node_interactivity = \"all\"\n",
    "\n",
    "# Set seeds for reproducibility\n",
    "rand_seed = 2\n",
    "np.random.seed(rand_seed)\n",
    "random.seed(rand_seed)"
   ]
  },
  {
   "cell_type": "markdown",
   "metadata": {},
   "source": [
    "## Purpose\n",
    "\n",
    "The goal is to produce accurate forecasts of Covid deaths and infections in Canada. One of the models we'll be focusing on is an SEIR model using a simulator based off of https://covid19-projections.com/model-details/.  "
   ]
  },
  {
   "cell_type": "code",
   "execution_count": 22,
   "metadata": {
    "execution": {
     "iopub.execute_input": "2020-10-12T07:46:13.293034Z",
     "iopub.status.busy": "2020-10-12T07:46:13.293034Z",
     "iopub.status.idle": "2020-10-12T07:46:13.405061Z",
     "shell.execute_reply": "2020-10-12T07:46:13.404061Z",
     "shell.execute_reply.started": "2020-10-12T07:46:13.293034Z"
    }
   },
   "outputs": [],
   "source": [
    "mortality_canada = pd.read_csv('../data/mortality_timeseries_canada.csv')"
   ]
  },
  {
   "cell_type": "code",
   "execution_count": 23,
   "metadata": {
    "execution": {
     "iopub.execute_input": "2020-10-12T07:46:15.958717Z",
     "iopub.status.busy": "2020-10-12T07:46:15.957714Z",
     "iopub.status.idle": "2020-10-12T07:46:16.064756Z",
     "shell.execute_reply": "2020-10-12T07:46:16.064756Z",
     "shell.execute_reply.started": "2020-10-12T07:46:15.958717Z"
    }
   },
   "outputs": [
    {
     "data": {
      "text/html": [
       "<div>\n",
       "<style scoped>\n",
       "    .dataframe tbody tr th:only-of-type {\n",
       "        vertical-align: middle;\n",
       "    }\n",
       "\n",
       "    .dataframe tbody tr th {\n",
       "        vertical-align: top;\n",
       "    }\n",
       "\n",
       "    .dataframe thead th {\n",
       "        text-align: right;\n",
       "    }\n",
       "</style>\n",
       "<table border=\"1\" class=\"dataframe\">\n",
       "  <thead>\n",
       "    <tr style=\"text-align: right;\">\n",
       "      <th></th>\n",
       "      <th>province</th>\n",
       "      <th>date_death_report</th>\n",
       "      <th>deaths</th>\n",
       "      <th>cumulative_deaths</th>\n",
       "    </tr>\n",
       "  </thead>\n",
       "  <tbody>\n",
       "    <tr>\n",
       "      <th>0</th>\n",
       "      <td>Canada</td>\n",
       "      <td>08-03-2020</td>\n",
       "      <td>1</td>\n",
       "      <td>1</td>\n",
       "    </tr>\n",
       "    <tr>\n",
       "      <th>1</th>\n",
       "      <td>Canada</td>\n",
       "      <td>09-03-2020</td>\n",
       "      <td>0</td>\n",
       "      <td>1</td>\n",
       "    </tr>\n",
       "    <tr>\n",
       "      <th>2</th>\n",
       "      <td>Canada</td>\n",
       "      <td>10-03-2020</td>\n",
       "      <td>0</td>\n",
       "      <td>1</td>\n",
       "    </tr>\n",
       "    <tr>\n",
       "      <th>3</th>\n",
       "      <td>Canada</td>\n",
       "      <td>11-03-2020</td>\n",
       "      <td>1</td>\n",
       "      <td>2</td>\n",
       "    </tr>\n",
       "    <tr>\n",
       "      <th>4</th>\n",
       "      <td>Canada</td>\n",
       "      <td>12-03-2020</td>\n",
       "      <td>0</td>\n",
       "      <td>2</td>\n",
       "    </tr>\n",
       "    <tr>\n",
       "      <th>...</th>\n",
       "      <td>...</td>\n",
       "      <td>...</td>\n",
       "      <td>...</td>\n",
       "      <td>...</td>\n",
       "    </tr>\n",
       "    <tr>\n",
       "      <th>213</th>\n",
       "      <td>Canada</td>\n",
       "      <td>07-10-2020</td>\n",
       "      <td>11</td>\n",
       "      <td>9585</td>\n",
       "    </tr>\n",
       "    <tr>\n",
       "      <th>214</th>\n",
       "      <td>Canada</td>\n",
       "      <td>08-10-2020</td>\n",
       "      <td>14</td>\n",
       "      <td>9599</td>\n",
       "    </tr>\n",
       "    <tr>\n",
       "      <th>215</th>\n",
       "      <td>Canada</td>\n",
       "      <td>09-10-2020</td>\n",
       "      <td>29</td>\n",
       "      <td>9628</td>\n",
       "    </tr>\n",
       "    <tr>\n",
       "      <th>216</th>\n",
       "      <td>Canada</td>\n",
       "      <td>10-10-2020</td>\n",
       "      <td>23</td>\n",
       "      <td>9651</td>\n",
       "    </tr>\n",
       "    <tr>\n",
       "      <th>217</th>\n",
       "      <td>Canada</td>\n",
       "      <td>11-10-2020</td>\n",
       "      <td>6</td>\n",
       "      <td>9657</td>\n",
       "    </tr>\n",
       "  </tbody>\n",
       "</table>\n",
       "<p>218 rows × 4 columns</p>\n",
       "</div>"
      ],
      "text/plain": [
       "    province date_death_report  deaths  cumulative_deaths\n",
       "0     Canada        08-03-2020       1                  1\n",
       "1     Canada        09-03-2020       0                  1\n",
       "2     Canada        10-03-2020       0                  1\n",
       "3     Canada        11-03-2020       1                  2\n",
       "4     Canada        12-03-2020       0                  2\n",
       "..       ...               ...     ...                ...\n",
       "213   Canada        07-10-2020      11               9585\n",
       "214   Canada        08-10-2020      14               9599\n",
       "215   Canada        09-10-2020      29               9628\n",
       "216   Canada        10-10-2020      23               9651\n",
       "217   Canada        11-10-2020       6               9657\n",
       "\n",
       "[218 rows x 4 columns]"
      ]
     },
     "execution_count": 23,
     "metadata": {},
     "output_type": "execute_result"
    }
   ],
   "source": [
    "mortality_canada"
   ]
  },
  {
   "cell_type": "markdown",
   "metadata": {},
   "source": [
    "## Apply different optimization methods\n",
    "\n",
    "First we would want to replace the simple grid search layer in the original model with more sophisticated optimization methods."
   ]
  },
  {
   "cell_type": "code",
   "execution_count": 2,
   "metadata": {
    "execution": {
     "iopub.execute_input": "2020-10-12T21:01:17.102218Z",
     "iopub.status.busy": "2020-10-12T21:01:17.102218Z",
     "iopub.status.idle": "2020-10-12T21:01:17.106218Z",
     "shell.execute_reply": "2020-10-12T21:01:17.105219Z",
     "shell.execute_reply.started": "2020-10-12T21:01:17.102218Z"
    }
   },
   "outputs": [],
   "source": [
    "skip_hospitalizations = None\n",
    "quarantine_perc = 0\n",
    "quarantine_effectiveness = -1\n",
    "best_params_type = 'mean'\n",
    "country = 'Canada'\n",
    "region = ''\n",
    "subregion = 'Ontario'"
   ]
  },
  {
   "cell_type": "code",
   "execution_count": null,
   "metadata": {},
   "outputs": [],
   "source": []
  },
  {
   "cell_type": "code",
   "execution_count": null,
   "metadata": {},
   "outputs": [],
   "source": []
  },
  {
   "cell_type": "code",
   "execution_count": null,
   "metadata": {},
   "outputs": [],
   "source": []
  }
 ],
 "metadata": {
  "kernelspec": {
   "display_name": "Python [conda env:covid-prediction]",
   "language": "python",
   "name": "conda-env-covid-prediction-py"
  },
  "language_info": {
   "codemirror_mode": {
    "name": "ipython",
    "version": 3
   },
   "file_extension": ".py",
   "mimetype": "text/x-python",
   "name": "python",
   "nbconvert_exporter": "python",
   "pygments_lexer": "ipython3",
   "version": "3.8.5"
  },
  "toc-autonumbering": true
 },
 "nbformat": 4,
 "nbformat_minor": 4
}
